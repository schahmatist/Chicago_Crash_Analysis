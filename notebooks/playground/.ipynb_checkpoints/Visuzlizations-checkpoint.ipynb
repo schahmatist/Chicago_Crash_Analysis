{
 "cells": [
  {
   "cell_type": "code",
   "execution_count": 1,
   "id": "d3a61cea",
   "metadata": {},
   "outputs": [],
   "source": [
    "from sklearn.impute import SimpleImputer #, IterativeImputer\n",
    "from sklearn.preprocessing import LabelEncoder, OrdinalEncoder, OneHotEncoder, StandardScaler, MaxAbsScaler\n",
    "\n",
    "from sklearn.metrics import precision_score, recall_score, accuracy_score, classification_report, ConfusionMatrixDisplay\n",
    "from sklearn.metrics import roc_auc_score, roc_curve, auc, SCORERS\n",
    "from sklearn.linear_model import LogisticRegression\n",
    "from sklearn.compose import ColumnTransformer\n",
    "from sklearn.pipeline import FeatureUnion, Pipeline\n",
    "from sklearn.model_selection import GridSearchCV, train_test_split\n",
    "from sklearn.tree import DecisionTreeClassifier\n",
    "from sklearn.ensemble import BaggingClassifier, RandomForestClassifier, ExtraTreesClassifier, AdaBoostClassifier\n",
    "from xgboost import XGBClassifier\n",
    "\n",
    "from sklearn import set_config\n",
    "set_config(display =\"diagram\")\n",
    "\n",
    "import matplotlib.pyplot as plt\n",
    "%matplotlib inline"
   ]
  },
  {
   "cell_type": "code",
   "execution_count": 2,
   "id": "ec833e60",
   "metadata": {},
   "outputs": [],
   "source": [
    "from sklearn.metrics import precision_score, recall_score, accuracy_score, classification_report, ConfusionMatrixDisplay\n",
    "from sklearn.base import BaseEstimator, TransformerMixin\n",
    "from xgboost import XGBClassifier\n",
    "import pandas as pd\n",
    "import numpy as np\n",
    "import joblib\n",
    "import pickle"
   ]
  },
  {
   "cell_type": "code",
   "execution_count": 4,
   "id": "2a223f5e",
   "metadata": {},
   "outputs": [],
   "source": [
    "class DataFrameSelector(BaseEstimator, TransformerMixin):\n",
    "    def __init__(self, attribute_names):\n",
    "        self.attribute_names=attribute_names\n",
    "    def fit(self, X, y=None):\n",
    "        return self\n",
    "    def transform(self, X):\n",
    "        return X[self.attribute_names].values\n",
    "    \n",
    "\n",
    "model_dic={}\n",
    "\n",
    "joblib_file='../../models/XGB_models.pkl'\n",
    "pkl_file_name='../../models/XGB_models.pikle'\n",
    "\n",
    "with open (pkl_file_name, 'rb') as file:\n",
    "    model_dic=pickle.load(file)"
   ]
  },
  {
   "cell_type": "code",
   "execution_count": null,
   "id": "80abd7a7",
   "metadata": {},
   "outputs": [],
   "source": [
    "full_df=pd.read_csv('../../data/processed/crashes.gz', compression='gzip', low_memory=False)\n"
   ]
  },
  {
   "cell_type": "code",
   "execution_count": 148,
   "id": "26421269",
   "metadata": {},
   "outputs": [],
   "source": [
    "sample_df=full_df[['GUILTY','DEVICE_CONDITION', 'FIRST_CRASH_TYPE', 'FIRST_CONTACT_POINT', \n",
    "           'TRAFFICWAY_TYPE','ROADWAY_SURFACE_COND','VEHICLE_DEFECT', 'ROAD_DEFECT',\n",
    "             'DRIVERS_LICENSE_CLASS', 'AGE_GROUP', 'VEHICLE_AGE', 'AIRBAG_DEPLOYED',\n",
    "            'PHYSICAL_CONDITION', 'MANEUVER',  'DRIVER_VISION',  'ALIGNMENT' ,  'TRAFFIC_CONTROL_DEVICE',\n",
    "                    'SUN_GLARE','VEHICLE_YEAR','SAFETY_EQUIPMENT',\n",
    "                     'VEHICLE_TYPE']].sample(10000, random_state=100)\n",
    "\n",
    "y = sample_df['GUILTY']\n",
    "x = sample_df.drop(['GUILTY'],axis=1)\n",
    "\n",
    "X_train, X_test, y_train, y_test = train_test_split(x, y, random_state=43, test_size=0.25, stratify=y)\n",
    "\n"
   ]
  },
  {
   "cell_type": "code",
   "execution_count": 149,
   "id": "9d55c00d",
   "metadata": {},
   "outputs": [],
   "source": [
    "y_pred_train=model_dic['XGB_DRIVER_VISION'].predict(X_test)\n",
    "#model_dic['XGB_DRIVER_VISION'].classes_"
   ]
  },
  {
   "cell_type": "code",
   "execution_count": 150,
   "id": "02503709",
   "metadata": {
    "scrolled": true
   },
   "outputs": [
    {
     "data": {
      "image/png": "[encoded data removed]",
      "text/plain": [
       "<Figure size 936x432 with 4 Axes>"
      ]
     },
     "metadata": {
      "needs_background": "light"
     },
     "output_type": "display_data"
    }
   ],
   "source": [
    "fig, ax = plt.subplots(figsize=(13,6), ncols=2)\n",
    "\n",
    "ConfusionMatrixDisplay.from_predictions(y_test, y_pred_train, normalize='pred', \n",
    "                                        display_labels=[1,0],cmap='pink', ax=ax[0])\n",
    "\n",
    "\n",
    "ConfusionMatrixDisplay.from_predictions(y_test, y_pred_train, normalize='true', \n",
    "                                        display_labels=[1,0],cmap='pink', ax=ax[1]);\n",
    "\n",
    "ax[0].set_title(\"Precision for predictions\")\n",
    "ax[1].set_title(\"Recall for true cases\")\n",
    "\n",
    "ax[0].set_xlabel('Predicted Cases')\n",
    "ax[0].set_ylabel('True Cases')\n",
    "ax[1].set_xlabel('Predicted Cases')\n",
    "ax[1].set_ylabel('True Cases');"
   ]
  },
  {
   "cell_type": "code",
   "execution_count": 119,
   "id": "50f35fcf",
   "metadata": {},
   "outputs": [
    {
     "data": {
      "text/html": [
       "<style>#sk-4c12d963-938b-484a-8223-75ec37893338 {color: black;background-color: white;}#sk-4c12d963-938b-484a-8223-75ec37893338 pre{padding: 0;}#sk-4c12d963-938b-484a-8223-75ec37893338 div.sk-toggleable {background-color: white;}#sk-4c12d963-938b-484a-8223-75ec37893338 label.sk-toggleable__label {cursor: pointer;display: block;width: 100%;margin-bottom: 0;padding: 0.3em;box-sizing: border-box;text-align: center;}#sk-4c12d963-938b-484a-8223-75ec37893338 label.sk-toggleable__label-arrow:before {content: \"▸\";float: left;margin-right: 0.25em;color: #696969;}#sk-4c12d963-938b-484a-8223-75ec37893338 label.sk-toggleable__label-arrow:hover:before {color: black;}#sk-4c12d963-938b-484a-8223-75ec37893338 div.sk-estimator:hover label.sk-toggleable__label-arrow:before {color: black;}#sk-4c12d963-938b-484a-8223-75ec37893338 div.sk-toggleable__content {max-height: 0;max-width: 0;overflow: hidden;text-align: left;background-color: #f0f8ff;}#sk-4c12d963-938b-484a-8223-75ec37893338 div.sk-toggleable__content pre {margin: 0.2em;color: black;border-radius: 0.25em;background-color: #f0f8ff;}#sk-4c12d963-938b-484a-8223-75ec37893338 input.sk-toggleable__control:checked~div.sk-toggleable__content {max-height: 200px;max-width: 100%;overflow: auto;}#sk-4c12d963-938b-484a-8223-75ec37893338 input.sk-toggleable__control:checked~label.sk-toggleable__label-arrow:before {content: \"▾\";}#sk-4c12d963-938b-484a-8223-75ec37893338 div.sk-estimator input.sk-toggleable__control:checked~label.sk-toggleable__label {background-color: #d4ebff;}#sk-4c12d963-938b-484a-8223-75ec37893338 div.sk-label input.sk-toggleable__control:checked~label.sk-toggleable__label {background-color: #d4ebff;}#sk-4c12d963-938b-484a-8223-75ec37893338 input.sk-hidden--visually {border: 0;clip: rect(1px 1px 1px 1px);clip: rect(1px, 1px, 1px, 1px);height: 1px;margin: -1px;overflow: hidden;padding: 0;position: absolute;width: 1px;}#sk-4c12d963-938b-484a-8223-75ec37893338 div.sk-estimator {font-family: monospace;background-color: #f0f8ff;border: 1px dotted black;border-radius: 0.25em;box-sizing: border-box;margin-bottom: 0.5em;}#sk-4c12d963-938b-484a-8223-75ec37893338 div.sk-estimator:hover {background-color: #d4ebff;}#sk-4c12d963-938b-484a-8223-75ec37893338 div.sk-parallel-item::after {content: \"\";width: 100%;border-bottom: 1px solid gray;flex-grow: 1;}#sk-4c12d963-938b-484a-8223-75ec37893338 div.sk-label:hover label.sk-toggleable__label {background-color: #d4ebff;}#sk-4c12d963-938b-484a-8223-75ec37893338 div.sk-serial::before {content: \"\";position: absolute;border-left: 1px solid gray;box-sizing: border-box;top: 2em;bottom: 0;left: 50%;}#sk-4c12d963-938b-484a-8223-75ec37893338 div.sk-serial {display: flex;flex-direction: column;align-items: center;background-color: white;padding-right: 0.2em;padding-left: 0.2em;}#sk-4c12d963-938b-484a-8223-75ec37893338 div.sk-item {z-index: 1;}#sk-4c12d963-938b-484a-8223-75ec37893338 div.sk-parallel {display: flex;align-items: stretch;justify-content: center;background-color: white;}#sk-4c12d963-938b-484a-8223-75ec37893338 div.sk-parallel::before {content: \"\";position: absolute;border-left: 1px solid gray;box-sizing: border-box;top: 2em;bottom: 0;left: 50%;}#sk-4c12d963-938b-484a-8223-75ec37893338 div.sk-parallel-item {display: flex;flex-direction: column;position: relative;background-color: white;}#sk-4c12d963-938b-484a-8223-75ec37893338 div.sk-parallel-item:first-child::after {align-self: flex-end;width: 50%;}#sk-4c12d963-938b-484a-8223-75ec37893338 div.sk-parallel-item:last-child::after {align-self: flex-start;width: 50%;}#sk-4c12d963-938b-484a-8223-75ec37893338 div.sk-parallel-item:only-child::after {width: 0;}#sk-4c12d963-938b-484a-8223-75ec37893338 div.sk-dashed-wrapped {border: 1px dashed gray;margin: 0 0.4em 0.5em 0.4em;box-sizing: border-box;padding-bottom: 0.4em;background-color: white;position: relative;}#sk-4c12d963-938b-484a-8223-75ec37893338 div.sk-label label {font-family: monospace;font-weight: bold;background-color: white;display: inline-block;line-height: 1.2em;}#sk-4c12d963-938b-484a-8223-75ec37893338 div.sk-label-container {position: relative;z-index: 2;text-align: center;}#sk-4c12d963-938b-484a-8223-75ec37893338 div.sk-container {/* jupyter's `normalize.less` sets `[hidden] { display: none; }` but bootstrap.min.css set `[hidden] { display: none !important; }` so we also need the `!important` here to be able to override the default hidden behavior on the sphinx rendered scikit-learn.org. See: https://github.com/scikit-learn/scikit-learn/issues/21755 */display: inline-block !important;position: relative;}#sk-4c12d963-938b-484a-8223-75ec37893338 div.sk-text-repr-fallback {display: none;}</style><div id=\"sk-4c12d963-938b-484a-8223-75ec37893338\" class=\"sk-top-container\"><div class=\"sk-text-repr-fallback\"><pre>XGBClassifier(base_score=0.5, booster=&#x27;gbtree&#x27;, colsample_bylevel=1,\n",
       "              colsample_bynode=1, colsample_bytree=1, enable_categorical=False,\n",
       "              eval_metric=&#x27;auc&#x27;, gamma=0.015, gpu_id=-1, importance_type=None,\n",
       "              interaction_constraints=&#x27;&#x27;, learning_rate=0.300000012,\n",
       "              max_delta_step=0, max_depth=3, min_child_weight=1, missing=nan,\n",
       "              monotone_constraints=&#x27;()&#x27;, n_estimators=90, n_jobs=-1,\n",
       "              num_parallel_tree=1, predictor=&#x27;auto&#x27;, random_state=0,\n",
       "              reg_alpha=0, reg_lambda=1, scale_pos_weight=1, subsample=1,\n",
       "              tree_method=&#x27;exact&#x27;, use_label_encoder=False,\n",
       "              validate_parameters=1, verbosity=None)</pre><b>Please rerun this cell to show the HTML repr or trust the notebook.</b></div><div class=\"sk-container\" hidden><div class=\"sk-item\"><div class=\"sk-estimator sk-toggleable\"><input class=\"sk-toggleable__control sk-hidden--visually\" id=\"621c6189-259a-4bb9-bf61-923084f5c457\" type=\"checkbox\" checked><label for=\"621c6189-259a-4bb9-bf61-923084f5c457\" class=\"sk-toggleable__label sk-toggleable__label-arrow\">XGBClassifier</label><div class=\"sk-toggleable__content\"><pre>XGBClassifier(base_score=0.5, booster=&#x27;gbtree&#x27;, colsample_bylevel=1,\n",
       "              colsample_bynode=1, colsample_bytree=1, enable_categorical=False,\n",
       "              eval_metric=&#x27;auc&#x27;, gamma=0.015, gpu_id=-1, importance_type=None,\n",
       "              interaction_constraints=&#x27;&#x27;, learning_rate=0.300000012,\n",
       "              max_delta_step=0, max_depth=3, min_child_weight=1, missing=nan,\n",
       "              monotone_constraints=&#x27;()&#x27;, n_estimators=90, n_jobs=-1,\n",
       "              num_parallel_tree=1, predictor=&#x27;auto&#x27;, random_state=0,\n",
       "              reg_alpha=0, reg_lambda=1, scale_pos_weight=1, subsample=1,\n",
       "              tree_method=&#x27;exact&#x27;, use_label_encoder=False,\n",
       "              validate_parameters=1, verbosity=None)</pre></div></div></div></div></div>"
      ],
      "text/plain": [
       "XGBClassifier(base_score=0.5, booster='gbtree', colsample_bylevel=1,\n",
       "              colsample_bynode=1, colsample_bytree=1, enable_categorical=False,\n",
       "              eval_metric='auc', gamma=0.015, gpu_id=-1, importance_type=None,\n",
       "              interaction_constraints='', learning_rate=0.300000012,\n",
       "              max_delta_step=0, max_depth=3, min_child_weight=1, missing=nan,\n",
       "              monotone_constraints='()', n_estimators=90, n_jobs=-1,\n",
       "              num_parallel_tree=1, predictor='auto', random_state=0,\n",
       "              reg_alpha=0, reg_lambda=1, scale_pos_weight=1, subsample=1,\n",
       "              tree_method='exact', use_label_encoder=False,\n",
       "              validate_parameters=1, verbosity=None)"
      ]
     },
     "execution_count": 119,
     "metadata": {},
     "output_type": "execute_result"
    }
   ],
   "source": [
    "model_dic['XGB_DRIVER_VISION'].best_estimator_[1]"
   ]
  },
  {
   "cell_type": "code",
   "execution_count": 154,
   "id": "d5f412c1",
   "metadata": {},
   "outputs": [],
   "source": [
    "mdl=model_dic['XGB_DRIVER_VISION'].best_estimator_[1]\n",
    "ohe=model_dic['XGB_DRIVER_VISION'].best_estimator_[0].transformer_list[0][1][1]\n",
    "\n",
    "def plot_feature_importances(model):\n",
    "    n_features = X_train.shape[1]\n",
    "    plt.figure(figsize=(8,8))\n",
    "    list_of_lists=[[range(n_features)],[model.feature_importances_]]\n",
    "    plt.barh(sorted(list_of_lists), align='center') \n",
    "    plt.yticks(np.arange(n_features), data_train.columns.values) \n",
    "    plt.xlabel('Feature importance')\n",
    "    plt.ylabel('Feature')\n",
    "\n",
    "#plot_feature_importances(model_dic['XGB_DRIVER_VISION'].best_estimator_[1])\n",
    "\n",
    "range(X_train.shape[1])\n",
    "\n",
    "#mdl.feature_importances_.shape\n",
    "#ohe.get_feature_names_out()\n",
    "\n",
    "#ohe.set_params(sparse=True)\n",
    "model_dic['XGB_DRIVER_VISION'].best_estimator_.named_steps\n",
    "\n",
    "#fu__cat_pipeline__cat_encoder__sparse=True\n",
    "None\n"
   ]
  },
  {
   "cell_type": "code",
   "execution_count": 153,
   "id": "3b314190",
   "metadata": {},
   "outputs": [],
   "source": []
  },
  {
   "cell_type": "code",
   "execution_count": 152,
   "id": "f201be04",
   "metadata": {},
   "outputs": [
    {
     "data": {
      "text/html": [
       "<style>#sk-1ac321d8-552d-4c8a-85bf-9a7588f13904 {color: black;background-color: white;}#sk-1ac321d8-552d-4c8a-85bf-9a7588f13904 pre{padding: 0;}#sk-1ac321d8-552d-4c8a-85bf-9a7588f13904 div.sk-toggleable {background-color: white;}#sk-1ac321d8-552d-4c8a-85bf-9a7588f13904 label.sk-toggleable__label {cursor: pointer;display: block;width: 100%;margin-bottom: 0;padding: 0.3em;box-sizing: border-box;text-align: center;}#sk-1ac321d8-552d-4c8a-85bf-9a7588f13904 label.sk-toggleable__label-arrow:before {content: \"▸\";float: left;margin-right: 0.25em;color: #696969;}#sk-1ac321d8-552d-4c8a-85bf-9a7588f13904 label.sk-toggleable__label-arrow:hover:before {color: black;}#sk-1ac321d8-552d-4c8a-85bf-9a7588f13904 div.sk-estimator:hover label.sk-toggleable__label-arrow:before {color: black;}#sk-1ac321d8-552d-4c8a-85bf-9a7588f13904 div.sk-toggleable__content {max-height: 0;max-width: 0;overflow: hidden;text-align: left;background-color: #f0f8ff;}#sk-1ac321d8-552d-4c8a-85bf-9a7588f13904 div.sk-toggleable__content pre {margin: 0.2em;color: black;border-radius: 0.25em;background-color: #f0f8ff;}#sk-1ac321d8-552d-4c8a-85bf-9a7588f13904 input.sk-toggleable__control:checked~div.sk-toggleable__content {max-height: 200px;max-width: 100%;overflow: auto;}#sk-1ac321d8-552d-4c8a-85bf-9a7588f13904 input.sk-toggleable__control:checked~label.sk-toggleable__label-arrow:before {content: \"▾\";}#sk-1ac321d8-552d-4c8a-85bf-9a7588f13904 div.sk-estimator input.sk-toggleable__control:checked~label.sk-toggleable__label {background-color: #d4ebff;}#sk-1ac321d8-552d-4c8a-85bf-9a7588f13904 div.sk-label input.sk-toggleable__control:checked~label.sk-toggleable__label {background-color: #d4ebff;}#sk-1ac321d8-552d-4c8a-85bf-9a7588f13904 input.sk-hidden--visually {border: 0;clip: rect(1px 1px 1px 1px);clip: rect(1px, 1px, 1px, 1px);height: 1px;margin: -1px;overflow: hidden;padding: 0;position: absolute;width: 1px;}#sk-1ac321d8-552d-4c8a-85bf-9a7588f13904 div.sk-estimator {font-family: monospace;background-color: #f0f8ff;border: 1px dotted black;border-radius: 0.25em;box-sizing: border-box;margin-bottom: 0.5em;}#sk-1ac321d8-552d-4c8a-85bf-9a7588f13904 div.sk-estimator:hover {background-color: #d4ebff;}#sk-1ac321d8-552d-4c8a-85bf-9a7588f13904 div.sk-parallel-item::after {content: \"\";width: 100%;border-bottom: 1px solid gray;flex-grow: 1;}#sk-1ac321d8-552d-4c8a-85bf-9a7588f13904 div.sk-label:hover label.sk-toggleable__label {background-color: #d4ebff;}#sk-1ac321d8-552d-4c8a-85bf-9a7588f13904 div.sk-serial::before {content: \"\";position: absolute;border-left: 1px solid gray;box-sizing: border-box;top: 2em;bottom: 0;left: 50%;}#sk-1ac321d8-552d-4c8a-85bf-9a7588f13904 div.sk-serial {display: flex;flex-direction: column;align-items: center;background-color: white;padding-right: 0.2em;padding-left: 0.2em;}#sk-1ac321d8-552d-4c8a-85bf-9a7588f13904 div.sk-item {z-index: 1;}#sk-1ac321d8-552d-4c8a-85bf-9a7588f13904 div.sk-parallel {display: flex;align-items: stretch;justify-content: center;background-color: white;}#sk-1ac321d8-552d-4c8a-85bf-9a7588f13904 div.sk-parallel::before {content: \"\";position: absolute;border-left: 1px solid gray;box-sizing: border-box;top: 2em;bottom: 0;left: 50%;}#sk-1ac321d8-552d-4c8a-85bf-9a7588f13904 div.sk-parallel-item {display: flex;flex-direction: column;position: relative;background-color: white;}#sk-1ac321d8-552d-4c8a-85bf-9a7588f13904 div.sk-parallel-item:first-child::after {align-self: flex-end;width: 50%;}#sk-1ac321d8-552d-4c8a-85bf-9a7588f13904 div.sk-parallel-item:last-child::after {align-self: flex-start;width: 50%;}#sk-1ac321d8-552d-4c8a-85bf-9a7588f13904 div.sk-parallel-item:only-child::after {width: 0;}#sk-1ac321d8-552d-4c8a-85bf-9a7588f13904 div.sk-dashed-wrapped {border: 1px dashed gray;margin: 0 0.4em 0.5em 0.4em;box-sizing: border-box;padding-bottom: 0.4em;background-color: white;position: relative;}#sk-1ac321d8-552d-4c8a-85bf-9a7588f13904 div.sk-label label {font-family: monospace;font-weight: bold;background-color: white;display: inline-block;line-height: 1.2em;}#sk-1ac321d8-552d-4c8a-85bf-9a7588f13904 div.sk-label-container {position: relative;z-index: 2;text-align: center;}#sk-1ac321d8-552d-4c8a-85bf-9a7588f13904 div.sk-container {/* jupyter's `normalize.less` sets `[hidden] { display: none; }` but bootstrap.min.css set `[hidden] { display: none !important; }` so we also need the `!important` here to be able to override the default hidden behavior on the sphinx rendered scikit-learn.org. See: https://github.com/scikit-learn/scikit-learn/issues/21755 */display: inline-block !important;position: relative;}#sk-1ac321d8-552d-4c8a-85bf-9a7588f13904 div.sk-text-repr-fallback {display: none;}</style><div id=\"sk-1ac321d8-552d-4c8a-85bf-9a7588f13904\" class=\"sk-top-container\"><div class=\"sk-text-repr-fallback\"><pre>GridSearchCV(cv=3,\n",
       "             estimator=Pipeline(steps=[(&#x27;fu&#x27;,\n",
       "                                        FeatureUnion(transformer_list=[(&#x27;cat_pipeline&#x27;,\n",
       "                                                                        Pipeline(steps=[(&#x27;selector&#x27;,\n",
       "                                                                                         DataFrameSelector(attribute_names=[&#x27;FIRST_CRASH_TYPE&#x27;,\n",
       "                                                                                                                            &#x27;FIRST_CONTACT_POINT&#x27;,\n",
       "                                                                                                                            &#x27;MANEUVER&#x27;,\n",
       "                                                                                                                            &#x27;TRAFFIC_CONTROL_DEVICE&#x27;,\n",
       "                                                                                                                            &#x27;PHYSICAL_CONDITION&#x27;,\n",
       "                                                                                                                            &#x27;DRIVER_VISION&#x27;])),\n",
       "                                                                                        (&#x27;cat_encoder&#x27;,\n",
       "                                                                                         OneHotEncoder(handle_unknown=&#x27;ignore&#x27;,\n",
       "                                                                                                       sparse=False))]))]))...\n",
       "                                                      min_child_weight=None,\n",
       "                                                      missing=nan,\n",
       "                                                      monotone_constraints=None,\n",
       "                                                      n_estimators=90,\n",
       "                                                      n_jobs=-1,\n",
       "                                                      num_parallel_tree=None,\n",
       "                                                      predictor=None,\n",
       "                                                      random_state=None,\n",
       "                                                      reg_alpha=None,\n",
       "                                                      reg_lambda=None,\n",
       "                                                      scale_pos_weight=None,\n",
       "                                                      subsample=None,\n",
       "                                                      tree_method=None,\n",
       "                                                      use_label_encoder=False,\n",
       "                                                      validate_parameters=None,\n",
       "                                                      verbosity=None))]),\n",
       "             param_grid={&#x27;boost__gamma&#x27;: [0.01, 0.015]}, scoring=&#x27;roc_auc&#x27;)</pre><b>Please rerun this cell to show the HTML repr or trust the notebook.</b></div><div class=\"sk-container\" hidden><div class=\"sk-item sk-dashed-wrapped\"><div class=\"sk-label-container\"><div class=\"sk-label sk-toggleable\"><input class=\"sk-toggleable__control sk-hidden--visually\" id=\"5603b2cf-e0da-41d9-a54f-7c2300b3f87c\" type=\"checkbox\" ><label for=\"5603b2cf-e0da-41d9-a54f-7c2300b3f87c\" class=\"sk-toggleable__label sk-toggleable__label-arrow\">GridSearchCV</label><div class=\"sk-toggleable__content\"><pre>GridSearchCV(cv=3,\n",
       "             estimator=Pipeline(steps=[(&#x27;fu&#x27;,\n",
       "                                        FeatureUnion(transformer_list=[(&#x27;cat_pipeline&#x27;,\n",
       "                                                                        Pipeline(steps=[(&#x27;selector&#x27;,\n",
       "                                                                                         DataFrameSelector(attribute_names=[&#x27;FIRST_CRASH_TYPE&#x27;,\n",
       "                                                                                                                            &#x27;FIRST_CONTACT_POINT&#x27;,\n",
       "                                                                                                                            &#x27;MANEUVER&#x27;,\n",
       "                                                                                                                            &#x27;TRAFFIC_CONTROL_DEVICE&#x27;,\n",
       "                                                                                                                            &#x27;PHYSICAL_CONDITION&#x27;,\n",
       "                                                                                                                            &#x27;DRIVER_VISION&#x27;])),\n",
       "                                                                                        (&#x27;cat_encoder&#x27;,\n",
       "                                                                                         OneHotEncoder(handle_unknown=&#x27;ignore&#x27;,\n",
       "                                                                                                       sparse=False))]))]))...\n",
       "                                                      min_child_weight=None,\n",
       "                                                      missing=nan,\n",
       "                                                      monotone_constraints=None,\n",
       "                                                      n_estimators=90,\n",
       "                                                      n_jobs=-1,\n",
       "                                                      num_parallel_tree=None,\n",
       "                                                      predictor=None,\n",
       "                                                      random_state=None,\n",
       "                                                      reg_alpha=None,\n",
       "                                                      reg_lambda=None,\n",
       "                                                      scale_pos_weight=None,\n",
       "                                                      subsample=None,\n",
       "                                                      tree_method=None,\n",
       "                                                      use_label_encoder=False,\n",
       "                                                      validate_parameters=None,\n",
       "                                                      verbosity=None))]),\n",
       "             param_grid={&#x27;boost__gamma&#x27;: [0.01, 0.015]}, scoring=&#x27;roc_auc&#x27;)</pre></div></div></div><div class=\"sk-parallel\"><div class=\"sk-parallel-item\"><div class=\"sk-item\"><div class=\"sk-serial\"><div class=\"sk-item\"><div class=\"sk-serial\"><div class=\"sk-item sk-dashed-wrapped\"><div class=\"sk-label-container\"><div class=\"sk-label sk-toggleable\"><input class=\"sk-toggleable__control sk-hidden--visually\" id=\"79f08d9b-f481-46b8-a2e9-9fa23e8a0e21\" type=\"checkbox\" ><label for=\"79f08d9b-f481-46b8-a2e9-9fa23e8a0e21\" class=\"sk-toggleable__label sk-toggleable__label-arrow\">fu: FeatureUnion</label><div class=\"sk-toggleable__content\"><pre>FeatureUnion(transformer_list=[(&#x27;cat_pipeline&#x27;,\n",
       "                                Pipeline(steps=[(&#x27;selector&#x27;,\n",
       "                                                 DataFrameSelector(attribute_names=[&#x27;FIRST_CRASH_TYPE&#x27;,\n",
       "                                                                                    &#x27;FIRST_CONTACT_POINT&#x27;,\n",
       "                                                                                    &#x27;MANEUVER&#x27;,\n",
       "                                                                                    &#x27;TRAFFIC_CONTROL_DEVICE&#x27;,\n",
       "                                                                                    &#x27;PHYSICAL_CONDITION&#x27;,\n",
       "                                                                                    &#x27;DRIVER_VISION&#x27;])),\n",
       "                                                (&#x27;cat_encoder&#x27;,\n",
       "                                                 OneHotEncoder(handle_unknown=&#x27;ignore&#x27;,\n",
       "                                                               sparse=False))]))])</pre></div></div></div><div class=\"sk-parallel\"><div class=\"sk-parallel-item\"><div class=\"sk-item\"><div class=\"sk-label-container\"><div class=\"sk-label sk-toggleable\"><label>cat_pipeline</label></div></div><div class=\"sk-serial\"><div class=\"sk-item\"><div class=\"sk-serial\"><div class=\"sk-item\"><div class=\"sk-estimator sk-toggleable\"><input class=\"sk-toggleable__control sk-hidden--visually\" id=\"6111fb51-c956-4ead-abdb-83de4309c8b4\" type=\"checkbox\" ><label for=\"6111fb51-c956-4ead-abdb-83de4309c8b4\" class=\"sk-toggleable__label sk-toggleable__label-arrow\">DataFrameSelector</label><div class=\"sk-toggleable__content\"><pre>DataFrameSelector(attribute_names=[&#x27;FIRST_CRASH_TYPE&#x27;, &#x27;FIRST_CONTACT_POINT&#x27;,\n",
       "                                   &#x27;MANEUVER&#x27;, &#x27;TRAFFIC_CONTROL_DEVICE&#x27;,\n",
       "                                   &#x27;PHYSICAL_CONDITION&#x27;, &#x27;DRIVER_VISION&#x27;])</pre></div></div></div><div class=\"sk-item\"><div class=\"sk-estimator sk-toggleable\"><input class=\"sk-toggleable__control sk-hidden--visually\" id=\"c39624cd-bb51-486a-af5b-99a2c591a6ae\" type=\"checkbox\" ><label for=\"c39624cd-bb51-486a-af5b-99a2c591a6ae\" class=\"sk-toggleable__label sk-toggleable__label-arrow\">OneHotEncoder</label><div class=\"sk-toggleable__content\"><pre>OneHotEncoder(handle_unknown=&#x27;ignore&#x27;, sparse=False)</pre></div></div></div></div></div></div></div></div></div></div><div class=\"sk-item\"><div class=\"sk-estimator sk-toggleable\"><input class=\"sk-toggleable__control sk-hidden--visually\" id=\"65f4fa53-4aa5-430b-af2d-c74767d99570\" type=\"checkbox\" ><label for=\"65f4fa53-4aa5-430b-af2d-c74767d99570\" class=\"sk-toggleable__label sk-toggleable__label-arrow\">XGBClassifier</label><div class=\"sk-toggleable__content\"><pre>XGBClassifier(base_score=None, booster=None, colsample_bylevel=None,\n",
       "              colsample_bynode=None, colsample_bytree=None,\n",
       "              enable_categorical=False, eval_metric=&#x27;auc&#x27;, gamma=0.02,\n",
       "              gpu_id=None, importance_type=None, interaction_constraints=None,\n",
       "              learning_rate=None, max_delta_step=None, max_depth=3,\n",
       "              min_child_weight=None, missing=nan, monotone_constraints=None,\n",
       "              n_estimators=90, n_jobs=-1, num_parallel_tree=None,\n",
       "              predictor=None, random_state=None, reg_alpha=None,\n",
       "              reg_lambda=None, scale_pos_weight=None, subsample=None,\n",
       "              tree_method=None, use_label_encoder=False,\n",
       "              validate_parameters=None, verbosity=None)</pre></div></div></div></div></div></div></div></div></div></div></div></div>"
      ],
      "text/plain": [
       "GridSearchCV(cv=3,\n",
       "             estimator=Pipeline(steps=[('fu',\n",
       "                                        FeatureUnion(transformer_list=[('cat_pipeline',\n",
       "                                                                        Pipeline(steps=[('selector',\n",
       "                                                                                         DataFrameSelector(attribute_names=['FIRST_CRASH_TYPE',\n",
       "                                                                                                                            'FIRST_CONTACT_POINT',\n",
       "                                                                                                                            'MANEUVER',\n",
       "                                                                                                                            'TRAFFIC_CONTROL_DEVICE',\n",
       "                                                                                                                            'PHYSICAL_CONDITION',\n",
       "                                                                                                                            'DRIVER_VISION'])),\n",
       "                                                                                        ('cat_encoder',\n",
       "                                                                                         OneHotEncoder(handle_unknown='ignore',\n",
       "                                                                                                       sparse=False))]))]))...\n",
       "                                                      min_child_weight=None,\n",
       "                                                      missing=nan,\n",
       "                                                      monotone_constraints=None,\n",
       "                                                      n_estimators=90,\n",
       "                                                      n_jobs=-1,\n",
       "                                                      num_parallel_tree=None,\n",
       "                                                      predictor=None,\n",
       "                                                      random_state=None,\n",
       "                                                      reg_alpha=None,\n",
       "                                                      reg_lambda=None,\n",
       "                                                      scale_pos_weight=None,\n",
       "                                                      subsample=None,\n",
       "                                                      tree_method=None,\n",
       "                                                      use_label_encoder=False,\n",
       "                                                      validate_parameters=None,\n",
       "                                                      verbosity=None))]),\n",
       "             param_grid={'boost__gamma': [0.01, 0.015]}, scoring='roc_auc')"
      ]
     },
     "execution_count": 152,
     "metadata": {},
     "output_type": "execute_result"
    }
   ],
   "source": [
    "model_dic['XGB_DRIVER_VISION'].fit(X_test,y_test)"
   ]
  },
  {
   "cell_type": "code",
   "execution_count": 141,
   "id": "e52fafd2",
   "metadata": {},
   "outputs": [],
   "source": [
    "#ohe.get_feature_names_out()\n",
    "\n",
    "#model_dic['XGB_DRIVER_VISION'].estimator_named_steps['fu']\n",
    "\n",
    "X_test=model_dic['XGB_DRIVER_VISION'].best_estimator_['fu'].transformer_list[0][1][1].set_params(sparse=True).fit_transform(X_test)"
   ]
  },
  {
   "cell_type": "code",
   "execution_count": 142,
   "id": "336a25ec",
   "metadata": {},
   "outputs": [
    {
     "data": {
      "text/plain": [
       "<2500x200 sparse matrix of type '<class 'numpy.float64'>'\n",
       "\twith 50000 stored elements in Compressed Sparse Row format>"
      ]
     },
     "execution_count": 142,
     "metadata": {},
     "output_type": "execute_result"
    }
   ],
   "source": []
  }
 ],
 "metadata": {
  "kernelspec": {
   "display_name": "Python 3 (ipykernel)",
   "language": "python",
   "name": "python3"
  },
  "language_info": {
   "codemirror_mode": {
    "name": "ipython",
    "version": 3
   },
   "file_extension": ".py",
   "mimetype": "text/x-python",
   "name": "python",
   "nbconvert_exporter": "python",
   "pygments_lexer": "ipython3",
   "version": "3.9.7"
  }
 },
 "nbformat": 4,
 "nbformat_minor": 5
}
